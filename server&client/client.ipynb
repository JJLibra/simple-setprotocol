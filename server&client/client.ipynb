{
 "cells": [
  {
   "cell_type": "code",
   "execution_count": 1,
   "id": "9c869c54-7044-42f4-9b99-50d456c580bc",
   "metadata": {},
   "outputs": [
    {
     "name": "stdout",
     "output_type": "stream",
     "text": [
      "Message and signature sent securely!\n"
     ]
    }
   ],
   "source": [
    "import socket\n",
    "import ssl\n",
    "import time\n",
    "from cryptography.hazmat.primitives.asymmetric import padding\n",
    "from cryptography.hazmat.primitives import hashes\n",
    "from cryptography.hazmat.primitives import serialization\n",
    "from cryptography.hazmat.backends import default_backend\n",
    "\n",
    "def load_private_key():\n",
    "    with open(\"private_key.pem\", \"rb\") as key_file:\n",
    "        private_key = serialization.load_pem_private_key(\n",
    "            key_file.read(),\n",
    "            password=None,\n",
    "            backend=default_backend()\n",
    "        )\n",
    "    return private_key\n",
    "\n",
    "def sign_message(private_key, message):\n",
    "    signature = private_key.sign(\n",
    "        message,\n",
    "        padding.PSS(\n",
    "            mgf=padding.MGF1(hashes.SHA256()),\n",
    "            salt_length=padding.PSS.MAX_LENGTH\n",
    "        ),\n",
    "        hashes.SHA256()\n",
    "    )\n",
    "    return signature\n",
    "\n",
    "def send_secure_message():\n",
    "    message = b\"This is a test message from the cardholder.\"\n",
    "    private_key = load_private_key()\n",
    "    signature = sign_message(private_key, message)\n",
    "\n",
    "    # 创建SSL上下文\n",
    "    context = ssl.create_default_context()\n",
    "    context.load_verify_locations('server.crt')  # 加载服务器证书位置\n",
    "\n",
    "    # 创建安全套接字\n",
    "    with socket.create_connection(('localhost', 65432)) as sock:\n",
    "        with context.wrap_socket(sock, server_hostname='localhost') as ssock:\n",
    "            ssock.sendall(message + signature)  # 发送消息和签名\n",
    "            print(\"Message and signature sent securely!\")\n",
    "            # 增加延时以等待服务器处理\n",
    "            time.sleep(2)\n",
    "\n",
    "if __name__ == \"__main__\":\n",
    "    send_secure_message()\n"
   ]
  },
  {
   "cell_type": "code",
   "execution_count": null,
   "id": "27647bfb-7fe7-479c-b67a-1e44969c6e5b",
   "metadata": {},
   "outputs": [],
   "source": []
  }
 ],
 "metadata": {
  "kernelspec": {
   "display_name": "py38kernel",
   "language": "python",
   "name": "py38-kernel"
  },
  "language_info": {
   "codemirror_mode": {
    "name": "ipython",
    "version": 3
   },
   "file_extension": ".py",
   "mimetype": "text/x-python",
   "name": "python",
   "nbconvert_exporter": "python",
   "pygments_lexer": "ipython3",
   "version": "3.8.18"
  }
 },
 "nbformat": 4,
 "nbformat_minor": 5
}
