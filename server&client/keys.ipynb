{
 "cells": [
  {
   "cell_type": "code",
   "execution_count": 1,
   "id": "0be2c9c5-1217-445b-8438-7ad8112d0e4a",
   "metadata": {},
   "outputs": [],
   "source": [
    "from cryptography.hazmat.primitives.asymmetric import rsa\n",
    "from cryptography.hazmat.primitives import serialization\n",
    "from cryptography.hazmat.backends import default_backend\n",
    "\n",
    "def generate_and_save_keys():\n",
    "    private_key = rsa.generate_private_key(\n",
    "        public_exponent=65537,\n",
    "        key_size=2048,\n",
    "        backend=default_backend()\n",
    "    )\n",
    "    public_key = private_key.public_key()\n",
    "\n",
    "    # Save private key\n",
    "    with open(\"private_key.pem\", \"wb\") as f:\n",
    "        f.write(private_key.private_bytes(\n",
    "            encoding=serialization.Encoding.PEM,\n",
    "            format=serialization.PrivateFormat.PKCS8,\n",
    "            encryption_algorithm=serialization.NoEncryption()\n",
    "        ))\n",
    "\n",
    "    # Save public key\n",
    "    with open(\"public_key.pem\", \"wb\") as f:\n",
    "        f.write(public_key.public_bytes(\n",
    "            encoding=serialization.Encoding.PEM,\n",
    "            format=serialization.PublicFormat.SubjectPublicKeyInfo\n",
    "        ))\n",
    "\n",
    "generate_and_save_keys()\n"
   ]
  }
 ],
 "metadata": {
  "kernelspec": {
   "display_name": "py38kernel",
   "language": "python",
   "name": "py38-kernel"
  },
  "language_info": {
   "codemirror_mode": {
    "name": "ipython",
    "version": 3
   },
   "file_extension": ".py",
   "mimetype": "text/x-python",
   "name": "python",
   "nbconvert_exporter": "python",
   "pygments_lexer": "ipython3",
   "version": "3.8.18"
  }
 },
 "nbformat": 4,
 "nbformat_minor": 5
}
