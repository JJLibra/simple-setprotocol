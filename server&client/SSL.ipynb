{
 "cells": [
  {
   "cell_type": "code",
   "execution_count": 1,
   "id": "cb852e29-f47c-4edd-8e27-9f29283ed522",
   "metadata": {},
   "outputs": [],
   "source": [
    "import socket\n",
    "import ssl\n",
    "import json\n",
    "\n",
    "def secure_socket_layer(server=True, port=65432):\n",
    "    context = ssl.create_default_context(ssl.Purpose.CLIENT_AUTH if server else ssl.Purpose.SERVER_AUTH)\n",
    "    if server:\n",
    "        context.load_cert_chain(certfile='server.crt', keyfile='server.key')  # Load server's certificate and key\n",
    "        server_socket = socket.socket(socket.AF_INET, socket.SOCK_STREAM)\n",
    "        server_socket.bind(('localhost', port))\n",
    "        server_socket.listen(5)\n",
    "        secure_socket = context.wrap_socket(server_socket, server_side=True)\n",
    "        return secure_socket\n",
    "    else:\n",
    "        context.load_verify_locations('server.crt')  # Load server's certificate for client verification\n",
    "        client_socket = socket.socket(socket.AF_INET, socket.SOCK_STREAM)\n",
    "        secure_socket = context.wrap_socket(client_socket, server_hostname='localhost')\n",
    "        secure_socket.connect(('localhost', port))\n",
    "        return secure_socket\n",
    "\n",
    "def send_secure_message():\n",
    "    ssock = secure_socket_layer(server=False)\n",
    "    message = {\n",
    "        \"order_id\": 12345,\n",
    "        \"customer_id\": 67890,\n",
    "        \"payment_details\": {\n",
    "            \"amount\": 100,\n",
    "            \"currency\": \"USD\"\n",
    "        }\n",
    "    }\n",
    "    ssock.send(json.dumps(message).encode('utf-8'))\n",
    "    print(\"Message and signature sent securely!\")\n",
    "    ssock.close()\n",
    "\n",
    "def receive_secure_message():\n",
    "    ssock = secure_socket_layer()\n",
    "    client_socket, addr = ssock.accept()\n",
    "    print(f\"Connected securely by {addr}\")\n",
    "    data = client_socket.recv(1024)\n",
    "    print(\"Received secure message:\", data.decode('utf-8'))\n",
    "    client_socket.close()\n",
    "    ssock.close()\n",
    "\n",
    "if __name__ == \"__main__\":\n",
    "    # To run, start receive_secure_message() in one script and send_secure_message() in another\n",
    "    pass\n"
   ]
  }
 ],
 "metadata": {
  "kernelspec": {
   "display_name": "py38kernel",
   "language": "python",
   "name": "py38-kernel"
  },
  "language_info": {
   "codemirror_mode": {
    "name": "ipython",
    "version": 3
   },
   "file_extension": ".py",
   "mimetype": "text/x-python",
   "name": "python",
   "nbconvert_exporter": "python",
   "pygments_lexer": "ipython3",
   "version": "3.8.18"
  }
 },
 "nbformat": 4,
 "nbformat_minor": 5
}
